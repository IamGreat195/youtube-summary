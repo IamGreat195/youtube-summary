{
 "cells": [
  {
   "cell_type": "code",
   "execution_count": 2,
   "id": "78c8d9e4-7fff-4af5-964f-1224b80ed4a6",
   "metadata": {},
   "outputs": [],
   "source": [
    "from youtube_transcript_api import YouTubeTranscriptApi\n",
    "import re\n",
    "from heapq import nlargest"
   ]
  },
  {
   "cell_type": "markdown",
   "id": "ead19318-8965-42d1-907a-999e21a20688",
   "metadata": {},
   "source": [
    "First we'll get the transcript using youtube transcript api"
   ]
  },
  {
   "cell_type": "code",
   "execution_count": 5,
   "id": "2c08ea9d-1beb-421a-b6e3-b040e409e84a",
   "metadata": {},
   "outputs": [],
   "source": [
    "ytt_api = YouTubeTranscriptApi()\n",
    "fetched_transcript = ytt_api.fetch('ExvEIOWB-H0')"
   ]
  },
  {
   "cell_type": "code",
   "execution_count": 7,
   "id": "5a698493-096f-427f-88e4-773746387010",
   "metadata": {},
   "outputs": [],
   "source": [
    "transcript = ''"
   ]
  },
  {
   "cell_type": "markdown",
   "id": "9cdb4111-3d09-4730-8170-c8049a23890f",
   "metadata": {},
   "source": [
    "We get like several snippet objects with text and timeframes and we need to extract the text alone"
   ]
  },
  {
   "cell_type": "code",
   "execution_count": 14,
   "id": "0c7b5b9d-fadf-4eac-9278-6d25dc4ed8f2",
   "metadata": {},
   "outputs": [],
   "source": [
    "for snippet in fetched_transcript:\n",
    "    transcript += snippet.text"
   ]
  },
  {
   "cell_type": "code",
   "execution_count": 16,
   "id": "53673fea-ec0c-4458-90fe-4575657d4e3d",
   "metadata": {},
   "outputs": [
    {
     "data": {
      "text/plain": [
       "345"
      ]
     },
     "execution_count": 16,
     "metadata": {},
     "output_type": "execute_result"
    }
   ],
   "source": [
    "snippet_count = len(fetched_transcript)\n",
    "snippet_count"
   ]
  },
  {
   "cell_type": "code",
   "execution_count": 18,
   "id": "53d6bebe-674c-4ae5-a26e-5b50990eb540",
   "metadata": {},
   "outputs": [
    {
     "data": {
      "text/plain": [
       "\"793 in Lindisfarne monastery here is alittle bit on fire it was set on fire bya group of raiders commonly known asVikings who saw the wealthy poorlydefended monastery is easy pickingswhich to be fair it was the raid onLindisfarne is often considered to bethe beginning of the period of Europeanhistory known as the Viking Age becausehere after the number of Seaborn raidsand the amount of Viking activity acrossEurope increased dramatically so whowere these Vikingswell they originated from Scandinaviawhat is now Denmark Norway and Sweden beaware that these weren't a single groupof people they had different social andreligious practices and were more thanhappy to raid each other when it wasprofitable speaking of raiding Vikinghas become synonymous with raider butit's important to note that many Vikingswere simply seaborne trade is a moststayed at home farming farming inScandinavia was a mixed bag and in thenorth of the Viking territories it waspractically impossible because coldsouthern denmark had parts of norway andsweden were actually quite good forfarming but population growth than theirother means such as fishing was neededfor sustenance the difficult climate andterrain of Scandinavia also madegoverning the people there verydifficult Kings often ruled with thelight touch since commanding someone whowas on an island over a mountain or onthe other side of a dense forest wasn'tthat easythat said force was one of the primaryways of securing royalty along withrewarding followers with gifts therewere some areas in Scandinavia whichwere pretty good in terms of resourcesand it was around these areas the powercoalesced the history of Scandinaviaduring the 9th century shrouded in mythand legend and frankly there is verylittle that can be said as definite factjust a quick note on names to will beusing the names Danish Swedish and NorseNorwegian but be aware that the bordersin Scandinavia weren't settled and thatpeople simply lived wherever washabitable anyway in the 9th centuryNorway named after the sea route alongits coast the northern way was the landof many petty kingdoms who rose and fellas they vied for dominance that is untila certain King Harald fairhair shows uparound 872 but again no one knows forsureit was he who established a power baseover the course of a few decades gainedover lordship over the north and thendefeated the confederation of pettykings at the Battle of half his fieldand it was after his victory that Haralddeclared himself to be the first king ofthe Norwegians in what is now Denmarkthe ninth century isn't much clearer andactually the name Denmark wasn't useduntil about the Year 930it is known though from the records ofthe Frankish Empire of Charlemagne thatsome of the lords who lived there willdo the great deal of power and that theDanes were noted fighters in Swedenafter the spare people who lived herethere is loads of evidence about whathappened down to the tiniest minutiae ohwait no there isn't what can be said forsure though is that the people that livethere live mostly in these areas andthat the spare made a great deal ofcontact with their neighbors across theBaltic Sea also shockingly it wasdivided into petty kingdoms it's alsoknown that the Swedes made regularcontact with the Sami people from thenorth and it's likely that some of theirreligious practices were adopted fromthem so whilst not a great deal is knownabout Scandinavia itself during thisperiod the people from there certainlymade an impact in other places the ninthcentury saw widespread raiding acrossWestern Europe such as those on frankerqbetween 840 and 850 the Franks fought tofight their coasts and rivers whichforced the Vikings to turn theirattention elsewhere to the British Islesthe British Isles had been subject toViking raids throughout most of theninth century in its wealth attractedmany mostly from Denmark to come andtake itthe 860 saw the landing of the greatheathen army in Britain which devastatedmany of the anglo-saxon kingdoms therehave made a lot of money doing so theNorse those from Norway raided their wayacross the northern and western coastsof Scotland and ended up at the islandof Ireland where they did yet moreraiding the reasons behind Vikingraiding are fiercely debated and rangefrom a lack of arable land back home tocope with population growth tohonor-based or semi religious reasonsmore on that in a bit the great heathenarmy soon changed from one of raiding toone of conquest and in short time theyconquered and settled this areasubsequently called the Danelawthe norse conquered most of the northernislands across the British Isles andalso settle places like Dublin and Corkwhich soon became important slavetrading hubs to the north lay theuninhabited island of Iceland Icelandwas settled by a man called in golfer anarson who settled Reykjavik in 874 andunlike the rest of Europe no one livedthere and so settlement was done withoutviolence the norse also settled theFaroe Islands here but no one knows whenfor sureexpansion wasn't limited to the west orto the north the East also saw a greatdeal of Viking mostly Swedish activitythe Vikings moved south settling raidingand trading until they came to the BlackSea and made contact with a very wealthyByzantine Empire there's a lot ofquestions concerning the manner ofScandinavian settlement in EasternEurope and to what extent they dominatedthe region however they were definitelydeeply involved in the politics of thearea and it made the Vikings their verywealthy the Vikings brought great changewith them to the places they settledgenerally speaking the Vikings were muchmore urbanized in the expanded majorsettlements like York Dublin and Kiawhich became deeply intertwined withEuropean trade the social changes theybrought with them vary depending on theregion but the primary area of conflictbetween the Vikings and those theyconquered was that of religion so theViking religion was a form of Germanicpaganism and is extremely complicatedthere were many gods and not all Vikingsworshiped the same gods there were alsothe nornes who determined a person'sunchangeable destiny and this idea of aset fate was extremely important forexample if you were destined to die incombat you would ideally go forthlooking for combat to approach your fatebravely Christians have attempted toconvert people in Scandinavia forcenturies by this point ultimately to noavailin fact many Vikings recognized theChristian desire to convert them andwent along with it for political gainone such example was Rollo who in 911after raiding frankerq was given thisland in Normandy which was probably theland he was occupying he was officiallygiven it on two conditions preventraiding from other Vikings and of coursebe baptized for many Vikings baptism wasa sincere act of conversion and forothers it was just the thing Christianswanted you to do after they paid you offin fact some Vikings complained that thebaptism they were just given wasn't asnice as the last oneso back in Norway things were startingto heat up Harald fairhair died around9:30 his kingdom fell apart and whatremained went to his son Eric the firstbetter known as Eric blood axe he waskicked out in 933 by his brother the newKing Haakon also known as hack and thegood and Eric went off to rule Dublin inNorthumbria hakam was as his namesuggests a pretty good King and soughtto strengthen his realm he was also aChristian and attempted to convert hissubjects but once he realized they werepretty annoyed with the whole Jesusthing he himself went back to worshipingthe Norse gods by the mid 10 centuriesm-mark was still divided into manykingdoms and it was this one the kingdomof Jutland which was ruled by a mancalled gone the old Gorn being old diedin 958 and was succeeded by his sonHarald better known as Harald BluetoothHarald would go on to conquer theentirety of the now gormless Denmarkwhich is one of the reasons he's sofamous the other is that he converted toChristianity this was after he attemptedto rate the Holy Roman Empire under Ottothe first in 960 Harald lost and thuswas made to convert but be aware thatthere were already many Christians inDenmark such as those who had returnedfrom the Danelawso one thing you'll have noticedthroughout this episode is that I keepsaying how we don't know much forcertain so how do we know anything aboutthe period the primary sources are oftenfrom outside of Scandinavia like thosefrom England or Frank here but there aretwo important Scandinaviansources the first were the gellingstones which were inscribed stones whichwere made at jelling the old capital ofJutland the major ones were made byHarald Bluetooth to celebrate both theunification of Denmark and itsconversion to Christianity the othersource is the sagas mostly from Icelandwhich were narrative stories writtenhundreds of years after the events theyspoke of hence why half of what iswritten in the sagas is seen as semilegendary not strictly trustworthy soback to Denmark the rest of Harold'sreign did see him to pose King Haakonthe good and replace him with his nephewHarold gray cloak gray cloak didbasically nothing except die in 917 sohoward declared himself to be the kingof norway - this would mark the highpoint of Harold's reign since the 986 hewas deposed by his son Sweyn ForkbeardSwain forbids reign is frankly a bit ofa mystery after taking the throne heappears to have either raided Englandand Scotland for about a decade or wasexiled there by his Nobles in theSwedish King Eric the victorious in 95he appears to have lost Norway to olafTrigg verson who undertook converting itto christianity with some successslightly after this the Swedish KingOlaf's Kurt kanoon would do the samething in his realm again the problemwith Swedish history at this point isthat nobody can say for sure what wasgoing on it's pretty certain that thesphere had conquered the Geats to thesouth but their northern borders arebasically unknown up in Iceland a mancalled Eric the red was banished formanslaughter in the late 10th centuryshortly afterwards he stumbled acrossand then settled Greenland Eric's sonLeif Ericson would then in the year 1001discover North America so take thatColumbus there were some temporarysettlements in North America but forsome reason they didn't last and thusNorth America wouldn't see Europeancontact again for nearly half amillennium Swain would at some pointreturn to Denmark and after the death oftrick verson in the year 1000 hereclaimed Norway he went back and forthraiding England for many years and in1013 he managed to seize it for himselfand become King there thus beginningEngland's royal house of Denmark he diedthe next year and his son Knut wouldbegin his rule in England two yearslater by 1020 a cannot road all of theselands now known as the North Sea Empirecannot died in 1035 and his kingdomswere divided in fighting broke out thekingship of Cunha would be used by hisdescendant the king of norway HaraldHardrada in 1066 landed in Northumbriawith the intent to take England's crownfor himself this went pretty well forhis enemy since harada got himselfkilled1066 and the death of Harald Hardrada isconsidered by many to mark the end ofthe Viking Age the reason for this islargely because theKing Nations were part of the Christianworld and were no longer able to raidwith impunity or even defeat theirenemies Denmark Sweden and Norway wereChristian kingdoms just like any otherand so there were rules you couldn'tsimply take a kingdom now just becauseyou wanted it you couldn't turn up andraid murder or enslave your fellowChristians anymore that's not to saythat nobody from these places everraided again they did and the Norwegianholdings in the British Isles wouldremain theirs until the 15th century thelegacy is the Viking Age is extremelyfar reaching this period did not settlethe issue of Scandinavian borders but ittaught the rest of Europe thatScandinavia was not something he couldignore anymore obviously one legaciesthat it spread the Scandinavian cultureto the Faroe Islands Iceland andGreenland they changed language and thepolitics of much of Western Europe andwhilst hot rodder had failed to subdueEngland it was William thegreat-great-great grandson of rolla whowould conquer it immediately afterwardsI hope you enjoyed this episode andthank you for watching and a specialthanks to Thomas guest Strich AdamHarvey Winston Cawood and JamesBissonnette if you'd like to learn moreabout the Viking Age there are some bookrecommendations in the description belowyou\""
      ]
     },
     "execution_count": 18,
     "metadata": {},
     "output_type": "execute_result"
    }
   ],
   "source": [
    "transcript"
   ]
  },
  {
   "cell_type": "code",
   "execution_count": 20,
   "id": "c4a2d901-1281-4ff4-92d6-cec08cffd22e",
   "metadata": {},
   "outputs": [
    {
     "name": "stderr",
     "output_type": "stream",
     "text": [
      "[nltk_data] Downloading package words to\n",
      "[nltk_data]     C:\\Users\\preme\\AppData\\Roaming\\nltk_data...\n",
      "[nltk_data]   Package words is already up-to-date!\n"
     ]
    },
    {
     "data": {
      "text/plain": [
       "True"
      ]
     },
     "execution_count": 20,
     "metadata": {},
     "output_type": "execute_result"
    }
   ],
   "source": [
    "from nltk import pos_tag\n",
    "from nltk.corpus import wordnet\n",
    "from nltk.corpus import words\n",
    "from nltk.corpus import stopwords\n",
    "from nltk.stem import WordNetLemmatizer\n",
    "from nltk.tokenize import word_tokenize, sent_tokenize\n",
    "import nltk\n",
    "import string\n",
    "import re\n",
    "\n",
    "nltk.download('words')"
   ]
  },
  {
   "cell_type": "code",
   "execution_count": 21,
   "id": "811bafa7-8ff6-4734-be7b-a9dbf036212d",
   "metadata": {},
   "outputs": [],
   "source": [
    "final_transcript = ''\n",
    "\n",
    "\n",
    "clean_transcript = transcript.replace('\\xa0', ' ').replace('\\n', ' ').strip() # some transcripts are literred with \\xa0s and unnecessary new lines\n",
    "clean_transcript = re.sub(r'\\s+', ' ', clean_transcript)  # Replace multiple spaces/newlines with single space\n",
    "clean_transcript = re.sub(r'[^\\w\\s\\.\\?!]', '', clean_transcript)  # Remove everything except words and sentence enders"
   ]
  },
  {
   "cell_type": "code",
   "execution_count": 24,
   "id": "090af654-7170-4679-8dcd-e4b5f85c0d8f",
   "metadata": {},
   "outputs": [
    {
     "data": {
      "text/plain": [
       "'793 in Lindisfarne monastery here is alittle bit on fire it was set on fire bya group of raiders commonly known asVikings who saw the wealthy poorlydefended monastery is easy pickingswhich to be fair it was the raid onLindisfarne is often considered to bethe beginning of the period of Europeanhistory known as the Viking Age becausehere after the number of Seaborn raidsand the amount of Viking activity acrossEurope increased dramatically so whowere these Vikingswell they originated from Scandinaviawhat is now Denmark Norway and Sweden beaware that these werent a single groupof people they had different social andreligious practices and were more thanhappy to raid each other when it wasprofitable speaking of raiding Vikinghas become synonymous with raider butits important to note that many Vikingswere simply seaborne trade is a moststayed at home farming farming inScandinavia was a mixed bag and in thenorth of the Viking territories it waspractically impossible because coldsouthern denmark had parts of norway andsweden were actually quite good forfarming but population growth than theirother means such as fishing was neededfor sustenance the difficult climate andterrain of Scandinavia also madegoverning the people there verydifficult Kings often ruled with thelight touch since commanding someone whowas on an island over a mountain or onthe other side of a dense forest wasntthat easythat said force was one of the primaryways of securing royalty along withrewarding followers with gifts therewere some areas in Scandinavia whichwere pretty good in terms of resourcesand it was around these areas the powercoalesced the history of Scandinaviaduring the 9th century shrouded in mythand legend and frankly there is verylittle that can be said as definite factjust a quick note on names to will beusing the names Danish Swedish and NorseNorwegian but be aware that the bordersin Scandinavia werent settled and thatpeople simply lived wherever washabitable anyway in the 9th centuryNorway named after the sea route alongits coast the northern way was the landof many petty kingdoms who rose and fellas they vied for dominance that is untila certain King Harald fairhair shows uparound 872 but again no one knows forsureit was he who established a power baseover the course of a few decades gainedover lordship over the north and thendefeated the confederation of pettykings at the Battle of half his fieldand it was after his victory that Haralddeclared himself to be the first king ofthe Norwegians in what is now Denmarkthe ninth century isnt much clearer andactually the name Denmark wasnt useduntil about the Year 930it is known though from the records ofthe Frankish Empire of Charlemagne thatsome of the lords who lived there willdo the great deal of power and that theDanes were noted fighters in Swedenafter the spare people who lived herethere is loads of evidence about whathappened down to the tiniest minutiae ohwait no there isnt what can be said forsure though is that the people that livethere live mostly in these areas andthat the spare made a great deal ofcontact with their neighbors across theBaltic Sea also shockingly it wasdivided into petty kingdoms its alsoknown that the Swedes made regularcontact with the Sami people from thenorth and its likely that some of theirreligious practices were adopted fromthem so whilst not a great deal is knownabout Scandinavia itself during thisperiod the people from there certainlymade an impact in other places the ninthcentury saw widespread raiding acrossWestern Europe such as those on frankerqbetween 840 and 850 the Franks fought tofight their coasts and rivers whichforced the Vikings to turn theirattention elsewhere to the British Islesthe British Isles had been subject toViking raids throughout most of theninth century in its wealth attractedmany mostly from Denmark to come andtake itthe 860 saw the landing of the greatheathen army in Britain which devastatedmany of the anglosaxon kingdoms therehave made a lot of money doing so theNorse those from Norway raided their wayacross the northern and western coastsof Scotland and ended up at the islandof Ireland where they did yet moreraiding the reasons behind Vikingraiding are fiercely debated and rangefrom a lack of arable land back home tocope with population growth tohonorbased or semi religious reasonsmore on that in a bit the great heathenarmy soon changed from one of raiding toone of conquest and in short time theyconquered and settled this areasubsequently called the Danelawthe norse conquered most of the northernislands across the British Isles andalso settle places like Dublin and Corkwhich soon became important slavetrading hubs to the north lay theuninhabited island of Iceland Icelandwas settled by a man called in golfer anarson who settled Reykjavik in 874 andunlike the rest of Europe no one livedthere and so settlement was done withoutviolence the norse also settled theFaroe Islands here but no one knows whenfor sureexpansion wasnt limited to the west orto the north the East also saw a greatdeal of Viking mostly Swedish activitythe Vikings moved south settling raidingand trading until they came to the BlackSea and made contact with a very wealthyByzantine Empire theres a lot ofquestions concerning the manner ofScandinavian settlement in EasternEurope and to what extent they dominatedthe region however they were definitelydeeply involved in the politics of thearea and it made the Vikings their verywealthy the Vikings brought great changewith them to the places they settledgenerally speaking the Vikings were muchmore urbanized in the expanded majorsettlements like York Dublin and Kiawhich became deeply intertwined withEuropean trade the social changes theybrought with them vary depending on theregion but the primary area of conflictbetween the Vikings and those theyconquered was that of religion so theViking religion was a form of Germanicpaganism and is extremely complicatedthere were many gods and not all Vikingsworshiped the same gods there were alsothe nornes who determined a personsunchangeable destiny and this idea of aset fate was extremely important forexample if you were destined to die incombat you would ideally go forthlooking for combat to approach your fatebravely Christians have attempted toconvert people in Scandinavia forcenturies by this point ultimately to noavailin fact many Vikings recognized theChristian desire to convert them andwent along with it for political gainone such example was Rollo who in 911after raiding frankerq was given thisland in Normandy which was probably theland he was occupying he was officiallygiven it on two conditions preventraiding from other Vikings and of coursebe baptized for many Vikings baptism wasa sincere act of conversion and forothers it was just the thing Christianswanted you to do after they paid you offin fact some Vikings complained that thebaptism they were just given wasnt asnice as the last oneso back in Norway things were startingto heat up Harald fairhair died around930 his kingdom fell apart and whatremained went to his son Eric the firstbetter known as Eric blood axe he waskicked out in 933 by his brother the newKing Haakon also known as hack and thegood and Eric went off to rule Dublin inNorthumbria hakam was as his namesuggests a pretty good King and soughtto strengthen his realm he was also aChristian and attempted to convert hissubjects but once he realized they werepretty annoyed with the whole Jesusthing he himself went back to worshipingthe Norse gods by the mid 10 centuriesmmark was still divided into manykingdoms and it was this one the kingdomof Jutland which was ruled by a mancalled gone the old Gorn being old diedin 958 and was succeeded by his sonHarald better known as Harald BluetoothHarald would go on to conquer theentirety of the now gormless Denmarkwhich is one of the reasons hes sofamous the other is that he converted toChristianity this was after he attemptedto rate the Holy Roman Empire under Ottothe first in 960 Harald lost and thuswas made to convert but be aware thatthere were already many Christians inDenmark such as those who had returnedfrom the Danelawso one thing youll have noticedthroughout this episode is that I keepsaying how we dont know much forcertain so how do we know anything aboutthe period the primary sources are oftenfrom outside of Scandinavia like thosefrom England or Frank here but there aretwo important Scandinaviansources the first were the gellingstones which were inscribed stones whichwere made at jelling the old capital ofJutland the major ones were made byHarald Bluetooth to celebrate both theunification of Denmark and itsconversion to Christianity the othersource is the sagas mostly from Icelandwhich were narrative stories writtenhundreds of years after the events theyspoke of hence why half of what iswritten in the sagas is seen as semilegendary not strictly trustworthy soback to Denmark the rest of Haroldsreign did see him to pose King Haakonthe good and replace him with his nephewHarold gray cloak gray cloak didbasically nothing except die in 917 sohoward declared himself to be the kingof norway  this would mark the highpoint of Harolds reign since the 986 hewas deposed by his son Sweyn ForkbeardSwain forbids reign is frankly a bit ofa mystery after taking the throne heappears to have either raided Englandand Scotland for about a decade or wasexiled there by his Nobles in theSwedish King Eric the victorious in 95he appears to have lost Norway to olafTrigg verson who undertook converting itto christianity with some successslightly after this the Swedish KingOlafs Kurt kanoon would do the samething in his realm again the problemwith Swedish history at this point isthat nobody can say for sure what wasgoing on its pretty certain that thesphere had conquered the Geats to thesouth but their northern borders arebasically unknown up in Iceland a mancalled Eric the red was banished formanslaughter in the late 10th centuryshortly afterwards he stumbled acrossand then settled Greenland Erics sonLeif Ericson would then in the year 1001discover North America so take thatColumbus there were some temporarysettlements in North America but forsome reason they didnt last and thusNorth America wouldnt see Europeancontact again for nearly half amillennium Swain would at some pointreturn to Denmark and after the death oftrick verson in the year 1000 hereclaimed Norway he went back and forthraiding England for many years and in1013 he managed to seize it for himselfand become King there thus beginningEnglands royal house of Denmark he diedthe next year and his son Knut wouldbegin his rule in England two yearslater by 1020 a cannot road all of theselands now known as the North Sea Empirecannot died in 1035 and his kingdomswere divided in fighting broke out thekingship of Cunha would be used by hisdescendant the king of norway HaraldHardrada in 1066 landed in Northumbriawith the intent to take Englands crownfor himself this went pretty well forhis enemy since harada got himselfkilled1066 and the death of Harald Hardrada isconsidered by many to mark the end ofthe Viking Age the reason for this islargely because theKing Nations were part of the Christianworld and were no longer able to raidwith impunity or even defeat theirenemies Denmark Sweden and Norway wereChristian kingdoms just like any otherand so there were rules you couldntsimply take a kingdom now just becauseyou wanted it you couldnt turn up andraid murder or enslave your fellowChristians anymore thats not to saythat nobody from these places everraided again they did and the Norwegianholdings in the British Isles wouldremain theirs until the 15th century thelegacy is the Viking Age is extremelyfar reaching this period did not settlethe issue of Scandinavian borders but ittaught the rest of Europe thatScandinavia was not something he couldignore anymore obviously one legaciesthat it spread the Scandinavian cultureto the Faroe Islands Iceland andGreenland they changed language and thepolitics of much of Western Europe andwhilst hot rodder had failed to subdueEngland it was William thegreatgreatgreat grandson of rolla whowould conquer it immediately afterwardsI hope you enjoyed this episode andthank you for watching and a specialthanks to Thomas guest Strich AdamHarvey Winston Cawood and JamesBissonnette if youd like to learn moreabout the Viking Age there are some bookrecommendations in the description belowyou'"
      ]
     },
     "execution_count": 24,
     "metadata": {},
     "output_type": "execute_result"
    }
   ],
   "source": [
    "clean_transcript"
   ]
  },
  {
   "cell_type": "code",
   "execution_count": 28,
   "id": "dfb156e7-e350-4532-a730-7974ac06ec75",
   "metadata": {},
   "outputs": [
    {
     "name": "stderr",
     "output_type": "stream",
     "text": [
      "Device set to use cpu\n",
      "C:\\Users\\preme\\anaconda3\\Lib\\site-packages\\transformers\\pipelines\\token_classification.py:170: UserWarning: `grouped_entities` is deprecated and will be removed in version v5.0.0, defaulted to `aggregation_strategy=\"AggregationStrategy.NONE\"` instead.\n",
      "  warnings.warn(\n"
     ]
    },
    {
     "name": "stdout",
     "output_type": "stream",
     "text": [
      "793 in Lindisfarne monastery. here is alittle bit on fire. it was set on fire bya group of raiders, commonly known asVikings, who saw the wealthy, poorlydefended monastery is easy pickingswhich, to be fair, it was. the raid onLindisfarne is often considered to bethe beginning of the period of Europeanhistory known as the Viking Age, becausehere after the number of Seaborn raidsand the amount of Viking activity acrossEurope increased dramatically. so whowere these Vikingswell, they originated from Scandinaviawhat is now Denmark, Norway and Sweden beaware that these werent a single groupof people. they had different social andreligious practices and were more thanhappy to raid each other when it wasprofitable. speaking of raiding, Vikinghas become synonymous with raider, butits important to note that many Vikingswere simply seaborne. trade is a moststayed at home farming. farming inScandinavia was a mixed bag, and in thenorth of the Viking territories it waspractically impossible, because coldsouthern denmark had parts of norway andsweden were actually quite good forfarming, but population growth than theirother means, such as fishing, was neededfor sustenance. the difficult climate andterrain of Scandinavia also madegoverning the people there verydifficult. Kings often ruled with thelight touch, since commanding someone whowas on an island, over a mountain or onthe other side of a dense forest wasntthat easythat said, force was one of the primaryways of securing royalty, along withrewarding followers with gifts. therewere some areas in Scandinavia whichwere pretty good in terms of resourcesand it was around these areas the powercoalesced. the history of Scandinaviaduring the 9th century shrouded in mythand legend, and, frankly, there is verylittle that can be said as definite factjust a quick note on names, to will beusing the names Danish, Swedish and NorseNorwegian, but be aware that the bordersin Scandinavia werent settled, and thatpeople simply lived wherever washabitable. anyway. in the 9th centuryNorway, named after the sea route alongits coast the northern way, was the landof many petty kingdoms who rose and fellas. they vied for dominance. that is untila certain King, Harald fairhair, shows uparound 872, but again, no one knows forsureit was he who established a power baseover the course of a few decades, gainedover lordship over the north, and thendefeated the confederation of pettykings at the Battle of half his fieldand it was after his victory that Haralddeclared himself to be the first king ofthe Norwegians in what is now Denmarkthe ninth century isnt much clearer, andactually the name Denmark wasnt useduntil about the Year 930it is known, though, from the records ofthe Frankish Empire of Charlemagne, thatsome of the lords who lived there willdo the great deal of power, and that theDanes were noted fighters in Swedenafter the spare people who lived herethere is loads of evidence about whathappened down to the tiniest minutiae? ohwait, no, there isnt. what can be said forsure, though, is that the people that livethere live mostly in these areas, andthat the spare made a great deal ofcontact with their neighbors across theBaltic Sea. also shockingly, it wasdivided into petty kingdoms. its alsoknown that the Swedes made regularcontact with the Sami people from thenorth, and its likely that some of theirreligious practices were adopted fromthem. so whilst not a great deal is knownabout Scandinavia itself during thisperiod, the people from there certainlymade an impact in other places. the ninthcentury saw widespread raiding acrossWestern Europe, such as those on frankerqbetween 840 and 850. the Franks fought tofight their coasts and rivers, whichforced the Vikings to turn theirattention elsewhere, to the British Islesthe British Isles had been subject toViking raids throughout most of theninth century. in its wealth attractedmany, mostly from Denmark, to come andtake itthe. 860 saw the landing of the greatheathen army in Britain, which devastatedmany of the anglosaxon kingdoms therehave made a lot of money doing so. theNorse- those from Norway, raided their wayacross the northern and western coastsof Scotland, and ended up at the islandof Ireland, where they did yet moreraiding. the reasons behind Vikingraiding are fiercely debated, and rangefrom a lack of arable land back home tocope with population growth, tohonorbased or semi religious reasonsmore on that in a bit. the great heathenarmy soon changed from one of raiding toone of conquest, and in short time theyconquered and settled this areasubsequently called the Danelawthe norse conquered most of the northernislands across the British Isles andalso settle places like Dublin and Corkwhich soon became important slavetrading hubs. to the north lay theuninhabited island of Iceland. Icelandwas settled by a man called in golfer anarson, who settled Reykjavik in 874, andunlike the rest of Europe, no one livedthere, and so settlement was done withoutviolence. the norse also settled theFaroe Islands here, but no one knows whenfor sureexpansion wasnt limited to the west orto the north. the East also saw a greatdeal of Viking, mostly Swedish, activitythe Vikings moved south, settling, raidingand trading, until they came to the BlackSea and made contact with a very wealthyByzantine Empire. theres a lot ofquestions concerning the manner ofScandinavian settlement in EasternEurope and to what extent they dominatedthe region. however, they were definitelydeeply involved in the politics of thearea, and it made the Vikings their verywealthy. the Vikings brought great changewith them to the places they settledgenerally speaking, the Vikings were muchmore urbanized in the expanded majorsettlements like York, Dublin and Kiawhich became deeply intertwined withEuropean trade. the social changes theybrought with them vary depending on theregion, but the primary area of conflictbetween the Vikings and those theyconquered was that of religion. so theViking religion was a form of Germanicpaganism and is extremely complicatedthere were many gods, and not all Vikingsworshiped the same gods. there were alsothe nornes, who determined a personsunchangeable destiny, and this idea of aset fate was extremely important forexample. if you were destined to die incombat, you would ideally go forthlooking for combat to approach your fatebravely. Christians have attempted toconvert people in Scandinavia forcenturies by this point, ultimately to noavailin fact, many Vikings recognized theChristian desire to convert them andwent along with it for political gainone such example was Rollo, who, in 911after raiding frankerq, was given thisland in Normandy, which was probably theland he was occupying. he was officiallygiven it on two conditions: preventraiding from other Vikings and, of coursebe baptized. for many Vikings, baptism wasa sincere act of conversion, and forothers it was just the thing Christianswanted you to do after they paid you offin fact, some Vikings complained that thebaptism they were just given wasnt asnice as the last oneso back in Norway, things were startingto heat up. Harald fairhair died around930. his kingdom fell apart and whatremained went to his son, Eric, the firstbetter, known as Eric blood axe. he waskicked out in 933 by his brother, the newKing, Haakon, also known as hack and thegood, and Eric went off to rule Dublin inNorthumbria. hakam was, as his namesuggests, a pretty good King and soughtto strengthen his realm. he was also aChristian and attempted to convert hissubjects, but once he realized they werepretty annoyed with the whole Jesusthing, he himself went back to worshipingthe Norse gods. by the mid 10 centuriesmmark was still divided into manykingdoms, and it was this one, the kingdomof Jutland, which was ruled by a mancalled gone, the old Gorn being old, diedin 958 and was succeeded by his sonHarald, better known as Harald BluetoothHarald would go on to conquer theentirety of the now gormless Denmarkwhich is one of the reasons hes sofamous. the other is that he converted toChristianity. this was after he attemptedto rate the Holy Roman Empire under Ottothe first. in 960, Harald lost and thuswas made to convert, but be aware thatthere were already many Christians inDenmark, such as those who had returnedfrom the Danelawso one thing youll have noticedthroughout this episode is that I keepsaying how we dont know much forcertain. so how do we know anything aboutthe period? the primary sources are oftenfrom outside of Scandinavia, like thosefrom England or Frank here, but there aretwo important Scandinaviansources. the first were the gellingstones, which were inscribed stones whichwere made at jelling, the old capital ofJutland. the major ones were made byHarald Bluetooth to celebrate both theunification of Denmark and itsconversion to Christianity. the othersource is the sagas, mostly from Icelandwhich were narrative stories writtenhundreds of years after the events theyspoke of. hence why half of what iswritten in the sagas is seen as semilegendary, not strictly trustworthy. soback to Denmark. the rest of Haroldsreign did see him to pose King Haakonthe good and replace him with his nephewHarold gray cloak. gray cloak didbasically nothing except die in 917. sohoward declared himself to be the kingof norway. this would mark the highpoint of Harolds reign, since the 986 hewas deposed by his son Sweyn ForkbeardSwain forbids reign is frankly a bit ofa mystery. after taking the throne heappears to have either raided Englandand Scotland for about a decade or wasexiled there by his Nobles in theSwedish King Eric the victorious in 95he appears to have lost Norway to olafTrigg verson, who undertook converting itto christianity, with some successslightly. after this, the Swedish KingOlafs Kurt kanoon would do the samething in his realm again. the problemwith Swedish history at this point isthat nobody can say for sure what wasgoing on its. pretty certain that thesphere had conquered the Geats to thesouth, but their northern borders arebasically unknown. up in Iceland, a mancalled Eric the red was banished formanslaughter in the late 10th centuryshortly afterwards he stumbled acrossand then settled Greenland. Erics sonLeif Ericson would then in the year 1001discover North America. so take thatColumbus. there were some temporarysettlements in North America, but forsome reason they didnt last, and thusNorth America wouldnt see Europeancontact again for nearly half. amillennium Swain would at some pointreturn to Denmark, and after the death oftrick verson in the year 1000 hereclaimed Norway. he went back and forthraiding England for many years, and in1013 he managed to seize it for himselfand become King there, thus beginningEnglands royal house of Denmark. he diedthe next year, and his son, Knut, wouldbegin his rule in England two yearslater. by 1020, a cannot road all of theselands, now known as the North Sea Empirecannot died in 1035, and his kingdomswere divided in fighting broke out. thekingship of Cunha would be used by hisdescendant, the king of norway, HaraldHardrada, in 1066, landed in Northumbriawith the intent to take Englands crownfor himself. this went pretty well forhis enemy, since harada got himselfkilled1066, and the death of Harald Hardrada isconsidered by many to mark the end ofthe Viking Age. the reason for this islargely because theKing Nations were part of the Christianworld and were no longer able to raidwith impunity, or even defeat theirenemies. Denmark, Sweden and Norway wereChristian kingdoms just like any otherand so there were rules. you couldntsimply take a kingdom now just becauseyou wanted it. you couldnt turn up, andraid, murder or enslave your fellowChristians anymore. thats not to saythat. nobody from these places everraided again. they did, and the Norwegianholdings in the British Isles wouldremain theirs until the 15th century. thelegacy is the Viking Age is extremelyfar reaching. this period did not settlethe issue of Scandinavian borders, but ittaught the rest of Europe thatScandinavia was not something he couldignore anymore. obviously, one legaciesthat it spread the Scandinavian cultureto the Faroe Islands, Iceland andGreenland. they changed language and thepolitics of much of Western Europe, andwhilst hot rodder had failed to subdueEngland, it was William thegreatgreatgreat grandson of rolla whowould conquer it immediately afterwardsI hope you enjoyed this episode andthank you for watching, and a specialthanks to Thomas, guest Strich, AdamHarvey, Winston Cawood and JamesBissonnette. if youd like to learn moreabout the Viking Age, there are some bookrecommendations in the description belowyou.\n"
     ]
    }
   ],
   "source": [
    "from deepmultilingualpunctuation import PunctuationModel\n",
    "\n",
    "# Load model\n",
    "model = PunctuationModel()\n",
    "\n",
    "\n",
    "# Restore punctuation & capitalization\n",
    "punctuated_text = model.restore_punctuation(clean_transcript)\n",
    "\n",
    "print(punctuated_text)\n"
   ]
  },
  {
   "cell_type": "markdown",
   "id": "18d439b1-4222-4ba4-be7b-f4a978d0c31f",
   "metadata": {},
   "source": [
    "We'll make a list of the lemmatized words in the transcript and add them to words_transcript list"
   ]
  },
  {
   "cell_type": "code",
   "execution_count": 29,
   "id": "678fa6f2-545b-4762-8ec6-5621ae3a7d98",
   "metadata": {},
   "outputs": [],
   "source": [
    "sentences = sent_tokenize(punctuated_text)\n",
    "wnl = WordNetLemmatizer()\n",
    "stop_words = set(stopwords.words('english'))\n",
    "words_transcript = []\n",
    "for sentence in sentences:\n",
    "    for word in nltk.word_tokenize(sentence):\n",
    "        if word not in stop_words and word.isalpha():\n",
    "            words_transcript.append(wnl.lemmatize(word))"
   ]
  },
  {
   "cell_type": "code",
   "execution_count": 35,
   "id": "a388bdf3-f443-4b8c-af17-23464e4443d3",
   "metadata": {},
   "outputs": [],
   "source": [
    "word_freq = nltk.FreqDist(words_transcript) # creates a frequency distribution for this particular list"
   ]
  },
  {
   "cell_type": "code",
   "execution_count": 37,
   "id": "47c29698-21ba-45b6-9676-5ac4c69ea8a3",
   "metadata": {},
   "outputs": [
    {
     "data": {
      "text/plain": [
       "FreqDist({'one': 10, 'Vikings': 10, 'Denmark': 8, 'many': 8, 'made': 8, 'known': 7, 'Viking': 7, 'people': 7, 'would': 7, 'Norway': 6, ...})"
      ]
     },
     "execution_count": 37,
     "metadata": {},
     "output_type": "execute_result"
    }
   ],
   "source": [
    "word_freq"
   ]
  },
  {
   "cell_type": "code",
   "execution_count": 39,
   "id": "a6f750b9-0645-4cd3-8e27-d85d3ae40865",
   "metadata": {},
   "outputs": [],
   "source": [
    " top_words = [word[0] for word in word_freq.most_common(10)] # get the top 10 words"
   ]
  },
  {
   "cell_type": "code",
   "execution_count": 41,
   "id": "6791349e-f373-45be-a8ed-c3b0b358ed38",
   "metadata": {},
   "outputs": [
    {
     "data": {
      "text/plain": [
       "['one',\n",
       " 'Vikings',\n",
       " 'Denmark',\n",
       " 'many',\n",
       " 'made',\n",
       " 'known',\n",
       " 'Viking',\n",
       " 'people',\n",
       " 'would',\n",
       " 'Norway']"
      ]
     },
     "execution_count": 41,
     "metadata": {},
     "output_type": "execute_result"
    }
   ],
   "source": [
    "top_words"
   ]
  },
  {
   "cell_type": "markdown",
   "id": "19c98c45-2021-4748-b7c6-0f1393b19793",
   "metadata": {},
   "source": [
    "Here we are defining a custom sentence score for each sentence if it contains one of our top words, so basically the sentences with the most number of top words will have the highest sentence score and will be displayed as our summmary"
   ]
  },
  {
   "cell_type": "code",
   "execution_count": 44,
   "id": "84af5a42-cce8-4908-8bd9-5bd22d29e71e",
   "metadata": {},
   "outputs": [],
   "source": [
    "summary = []\n",
    "for sentence in sentences:\n",
    "    sentence_words = nltk.word_tokenize(sentence.lower())\n",
    "    sentence_score = 0\n",
    "    for word in sentence_words:\n",
    "        if wnl.lemmatize(word) in top_words:\n",
    "            sentence_score += 1\n",
    "    summary.append((sentence, sentence_score))\n",
    "    \n",
    "    "
   ]
  },
  {
   "cell_type": "code",
   "execution_count": 59,
   "id": "90e2b9b5-20a3-4980-90c9-f27c83b99d1e",
   "metadata": {},
   "outputs": [],
   "source": [
    "generated_summary = ''"
   ]
  },
  {
   "cell_type": "markdown",
   "id": "f948e16c-7116-4955-8340-9505fd3bc2cf",
   "metadata": {},
   "source": [
    "We are choosing the 3 sentences with the largest sentence score and displaying them"
   ]
  },
  {
   "cell_type": "code",
   "execution_count": 62,
   "id": "d92fbb0c-65be-44dd-a6a6-46932888f9c6",
   "metadata": {},
   "outputs": [
    {
     "name": "stdout",
     "output_type": "stream",
     "text": [
      "by the mid 10 centuriesmmark was still divided into manykingdoms, and it was this one, the kingdomof Jutland, which was ruled by a mancalled gone, the old Gorn being old, diedin 958 and was succeeded by his sonHarald, better known as Harald BluetoothHarald would go on to conquer theentirety of the now gormless Denmarkwhich is one of the reasons hes sofamous.\n",
      "that is untila certain King, Harald fairhair, shows uparound 872, but again, no one knows forsureit was he who established a power baseover the course of a few decades, gainedover lordship over the north, and thendefeated the confederation of pettykings at the Battle of half his fieldand it was after his victory that Haralddeclared himself to be the first king ofthe Norwegians in what is now Denmarkthe ninth century isnt much clearer, andactually the name Denmark wasnt useduntil about the Year 930it is known, though, from the records ofthe Frankish Empire of Charlemagne, thatsome of the lords who lived there willdo the great deal of power, and that theDanes were noted fighters in Swedenafter the spare people who lived herethere is loads of evidence about whathappened down to the tiniest minutiae?\n",
      "in 960, Harald lost and thuswas made to convert, but be aware thatthere were already many Christians inDenmark, such as those who had returnedfrom the Danelawso one thing youll have noticedthroughout this episode is that I keepsaying how we dont know much forcertain.\n"
     ]
    }
   ],
   "source": [
    "for sentence in nlargest(3, summary, key=lambda x:x[1]): # ranking according to score\n",
    "    generated_summary += sentence[0]\n",
    "    print(sentence[0])"
   ]
  },
  {
   "cell_type": "markdown",
   "id": "21ea8ae3-9b3a-4b4b-a7fd-0d9c240ffa78",
   "metadata": {},
   "source": [
    "Ok so let us now generate a summary using bart to compare the both of them and evaluate our own summary generated by nlp techniques"
   ]
  },
  {
   "cell_type": "code",
   "execution_count": 65,
   "id": "6f4d623f-422c-4fe6-b8fd-6fdbdfa2736b",
   "metadata": {},
   "outputs": [
    {
     "data": {
      "text/plain": [
       "'by the mid 10 centuriesmmark was still divided into manykingdoms, and it was this one, the kingdomof Jutland, which was ruled by a mancalled gone, the old Gorn being old, diedin 958 and was succeeded by his sonHarald, better known as Harald BluetoothHarald would go on to conquer theentirety of the now gormless Denmarkwhich is one of the reasons hes sofamous.that is untila certain King, Harald fairhair, shows uparound 872, but again, no one knows forsureit was he who established a power baseover the course of a few decades, gainedover lordship over the north, and thendefeated the confederation of pettykings at the Battle of half his fieldand it was after his victory that Haralddeclared himself to be the first king ofthe Norwegians in what is now Denmarkthe ninth century isnt much clearer, andactually the name Denmark wasnt useduntil about the Year 930it is known, though, from the records ofthe Frankish Empire of Charlemagne, thatsome of the lords who lived there willdo the great deal of power, and that theDanes were noted fighters in Swedenafter the spare people who lived herethere is loads of evidence about whathappened down to the tiniest minutiae?in 960, Harald lost and thuswas made to convert, but be aware thatthere were already many Christians inDenmark, such as those who had returnedfrom the Danelawso one thing youll have noticedthroughout this episode is that I keepsaying how we dont know much forcertain.'"
      ]
     },
     "execution_count": 65,
     "metadata": {},
     "output_type": "execute_result"
    }
   ],
   "source": [
    "generated_summary"
   ]
  },
  {
   "cell_type": "markdown",
   "id": "ebc63382-de59-4299-a94e-34edd739259b",
   "metadata": {},
   "source": [
    "This was summarization done using classic nlp techniques which are a bit crude so now we will use a transformer(bart) to summarize"
   ]
  },
  {
   "cell_type": "code",
   "execution_count": 68,
   "id": "859f911c-8160-4205-b873-06a9c563b39e",
   "metadata": {},
   "outputs": [
    {
     "name": "stderr",
     "output_type": "stream",
     "text": [
      "Device set to use cpu\n"
     ]
    }
   ],
   "source": [
    "from transformers import pipeline\n",
    "\n",
    "# Load summarization pipeline with pretrained BART\n",
    "summarizer = pipeline(\"summarization\", model=\"facebook/bart-large-cnn\")"
   ]
  },
  {
   "cell_type": "markdown",
   "id": "99d081d3-38af-4a80-b5f3-f017c689013b",
   "metadata": {},
   "source": [
    "We need to split our text into chunks as maximum token length of bart that is allowed is 1024 so we split it into chunks and also add an overlap of 2 sentences to pertain context between chunks"
   ]
  },
  {
   "cell_type": "code",
   "execution_count": 71,
   "id": "99144847-cd80-49eb-9005-c4cb45ec6522",
   "metadata": {},
   "outputs": [
    {
     "name": "stdout",
     "output_type": "stream",
     "text": [
      "Chunk 1: 802 tokens\n",
      "Chunk 2: 850 tokens\n",
      "Chunk 3: 838 tokens\n",
      "Chunk 4: 575 tokens\n"
     ]
    }
   ],
   "source": [
    "from transformers import BartTokenizer\n",
    "\n",
    "tokenizer = BartTokenizer.from_pretrained(\"facebook/bart-large-cnn\")\n",
    "\n",
    "overlap = 2\n",
    "chunks = []\n",
    "current_chunk = []\n",
    "current_length = 0\n",
    "chunk_size = 900  # in tokens, not words\n",
    "\n",
    "for sentence in sentences:\n",
    "    sentence_len = len(tokenizer.encode(sentence))\n",
    "    if current_length + sentence_len <= chunk_size:\n",
    "        current_chunk.append(sentence)\n",
    "        current_length += sentence_len\n",
    "    else:\n",
    "        chunks.append(\" \".join(current_chunk))\n",
    "\n",
    "        # Keep last few sentences for overlap\n",
    "        current_chunk = current_chunk[-overlap:] + [sentence]\n",
    "        current_length = sum(len(tokenizer.encode(s)) for s in current_chunk)\n",
    "\n",
    "if current_chunk:\n",
    "    chunks.append(\" \".join(current_chunk))\n",
    "\n",
    "# Check actual token count per chunk\n",
    "for i, chunk in enumerate(chunks):\n",
    "    print(f\"Chunk {i+1}: {len(tokenizer.encode(chunk))} tokens\")\n"
   ]
  },
  {
   "cell_type": "code",
   "execution_count": 73,
   "id": "60fc271a-6476-48b0-a0ec-b27e73df543c",
   "metadata": {},
   "outputs": [],
   "source": [
    "chunk_summaries = []\n",
    "for chunk in chunks:\n",
    "    bart_summary = summarizer(chunk, max_length=300, min_length=50, do_sample=False) # summarize all the chunks together\n",
    "    chunk_summaries.append(bart_summary[0]['summary_text'])\n"
   ]
  },
  {
   "cell_type": "code",
   "execution_count": 74,
   "id": "d4dfc38b-4dcc-4ebd-a321-51e62330154e",
   "metadata": {},
   "outputs": [
    {
     "data": {
      "text/plain": [
       "[{'summary_text': 'The Viking Age is considered by many to mark the end ofthe Viking Age. The reason for this islargely because theKing Nations were part of the Christianworld and were no longer able to raidwith impunity, or even defeat theirenemies. Denmark, Sweden and Norway wereChristian kingdoms just like any otherand so there were rules. you couldntsimply take a kingdom now just becauseyou wanted it. they changed language and thepolitics of much of Western Europe.'}]"
      ]
     },
     "execution_count": 74,
     "metadata": {},
     "output_type": "execute_result"
    }
   ],
   "source": [
    "bart_summary"
   ]
  },
  {
   "cell_type": "code",
   "execution_count": 77,
   "id": "d1e5ab7e-132a-4bee-9cbd-7a26df91198d",
   "metadata": {},
   "outputs": [
    {
     "name": "stdout",
     "output_type": "stream",
     "text": [
      "Vikings originated from Scandinaviawhat is now Denmark, Norway and Sweden. The Vikings conquered most of the northernislands across the British Isles and also settle places like Dublin and Cork. The religion of the Vikings was a form of Germanicpaganism. Harald Bluetooth was the king of Denmark from 958 to 986. He converted to Christianity after losing to the Holy Roman Empire in 960. His son, Eric, the firstbetter, went off to rule Dublin in Northumbria. Eric's sonLeif Ericson would then in the year 1001discover North America.\n"
     ]
    }
   ],
   "source": [
    "combined_summary_input = \" \".join(chunk_summaries)\n",
    "final_summary = summarizer(combined_summary_input, max_length=250, min_length=100, do_sample=False)\n",
    "print(final_summary[0]['summary_text'])\n"
   ]
  },
  {
   "cell_type": "code",
   "execution_count": 68,
   "id": "b5e10c54-f68a-4961-8a20-c7d271c796e8",
   "metadata": {},
   "outputs": [
    {
     "data": {
      "text/plain": [
       "' by the mid 10 centuriesmmark was still divided into manykingdoms, and it was this one, the kingdomof Jutland, which was ruled by a mancalled gone, the old Gorn being old, diedin 958 and was succeeded by his sonHarald, better known as Harald BluetoothHarald would go on to conquer theentirety of the now gormless Denmarkwhich is one of the reasons hes sofamous.that is untila certain King, Harald fairhair, shows uparound 872, but again, no one knows forsureit was he who established a power baseover the course of a few decades, gainedover lordship over the north, and thendefeated the confederation of pettykings at the Battle of half his fieldand it was after his victory that Haralddeclared himself to be the first king ofthe Norwegians in what is now Denmarkthe ninth century isnt much clearer, andactually the name Denmark wasnt useduntil about the Year 930it is known, though, from the records ofthe Frankish Empire of Charlemagne, thatsome of the lords who lived there willdo the great deal of power, and that theDanes were noted fighters in Swedenafter the spare people who lived herethere is loads of evidence about whathappened down to the tiniest minutiae?in 960, Harald lost and thuswas made to convert, but be aware thatthere were already many Christians inDenmark, such as those who had returnedfrom the Danelawso one thing youll have noticedthroughout this episode is that I keepsaying how we dont know much forcertain.'"
      ]
     },
     "execution_count": 68,
     "metadata": {},
     "output_type": "execute_result"
    }
   ],
   "source": [
    "generated_summary"
   ]
  },
  {
   "cell_type": "markdown",
   "id": "42fc8152-5215-436d-9f33-244a54cacfb5",
   "metadata": {},
   "source": [
    "We'll evaluate our nlp summary by comparing it with the transformer one"
   ]
  },
  {
   "cell_type": "code",
   "execution_count": 80,
   "id": "0ef5f762-a664-407c-877a-e6490521ce76",
   "metadata": {},
   "outputs": [
    {
     "name": "stdout",
     "output_type": "stream",
     "text": [
      "{'rouge1': Score(precision=0.19148936170212766, recall=0.5172413793103449, fmeasure=0.2795031055900621), 'rouge2': Score(precision=0.02564102564102564, recall=0.06976744186046512, fmeasure=0.0375), 'rougeL': Score(precision=0.09787234042553192, recall=0.26436781609195403, fmeasure=0.14285714285714285)}\n"
     ]
    }
   ],
   "source": [
    "from rouge_score import rouge_scorer\n",
    "\n",
    "scorer = rouge_scorer.RougeScorer(['rouge1', 'rouge2', 'rougeL'], use_stemmer=True)\n",
    "scores = scorer.score(final_summary[0]['summary_text'], generated_summary)\n",
    "\n",
    "print(scores)\n"
   ]
  },
  {
   "cell_type": "code",
   "execution_count": 84,
   "id": "ede30787-ba58-40d9-b4c1-b5e63a32ebc5",
   "metadata": {},
   "outputs": [
    {
     "data": {
      "text/plain": [
       "[{'summary_text': \"Vikings originated from Scandinaviawhat is now Denmark, Norway and Sweden. The Vikings conquered most of the northernislands across the British Isles and also settle places like Dublin and Cork. The religion of the Vikings was a form of Germanicpaganism. Harald Bluetooth was the king of Denmark from 958 to 986. He converted to Christianity after losing to the Holy Roman Empire in 960. His son, Eric, the firstbetter, went off to rule Dublin in Northumbria. Eric's sonLeif Ericson would then in the year 1001discover North America.\"}]"
      ]
     },
     "execution_count": 84,
     "metadata": {},
     "output_type": "execute_result"
    }
   ],
   "source": [
    "final_summary"
   ]
  },
  {
   "cell_type": "markdown",
   "id": "ff7804b7-fe31-442f-a652-8ee0032ea8cf",
   "metadata": {},
   "source": [
    "All the mashed together words are the fault of the youtube transcript api"
   ]
  }
 ],
 "metadata": {
  "kernelspec": {
   "display_name": "Python [conda env:base] *",
   "language": "python",
   "name": "conda-base-py"
  },
  "language_info": {
   "codemirror_mode": {
    "name": "ipython",
    "version": 3
   },
   "file_extension": ".py",
   "mimetype": "text/x-python",
   "name": "python",
   "nbconvert_exporter": "python",
   "pygments_lexer": "ipython3",
   "version": "3.12.3"
  }
 },
 "nbformat": 4,
 "nbformat_minor": 5
}
